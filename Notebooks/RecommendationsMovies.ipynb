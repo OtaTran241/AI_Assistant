{
  "cells": [
    {
      "cell_type": "code",
      "execution_count": 1,
      "metadata": {
        "id": "JiPouYn0EfOl"
      },
      "outputs": [],
      "source": [
        "import pandas as pd\n",
        "import matplotlib.pyplot as plt"
      ]
    },
    {
      "cell_type": "code",
      "execution_count": 2,
      "metadata": {
        "id": "57Wy1AM0F7WV"
      },
      "outputs": [],
      "source": [
        "from sklearn.feature_extraction.text import TfidfVectorizer\n",
        "from sklearn.metrics.pairwise import linear_kernel"
      ]
    },
    {
      "cell_type": "code",
      "execution_count": 3,
      "metadata": {
        "id": "L-YtoixGHkSq"
      },
      "outputs": [],
      "source": [
        "df_movies = pd.read_csv('data/movies.csv')\n",
        "df_ratings = pd.read_csv('data/ratings.csv')"
      ]
    },
    {
      "cell_type": "code",
      "execution_count": 4,
      "metadata": {
        "id": "j0yAkKrkuY-q"
      },
      "outputs": [],
      "source": [
        "df_ratings = df_ratings.groupby('movieId')['rating'].mean()"
      ]
    },
    {
      "cell_type": "code",
      "execution_count": 5,
      "metadata": {
        "id": "MBddBZsorpd5"
      },
      "outputs": [],
      "source": [
        "df = pd.merge(df_movies, df_ratings, on='movieId', how='inner')"
      ]
    },
    {
      "cell_type": "code",
      "execution_count": 6,
      "metadata": {
        "colab": {
          "base_uri": "https://localhost:8080/"
        },
        "id": "p2cR7Gs4H1Lc",
        "outputId": "f212627c-e787-4f20-d155-a36b719e8b0c"
      },
      "outputs": [
        {
          "name": "stdout",
          "output_type": "stream",
          "text": [
            "<class 'pandas.core.frame.DataFrame'>\n",
            "RangeIndex: 10325 entries, 0 to 10324\n",
            "Data columns (total 4 columns):\n",
            " #   Column   Non-Null Count  Dtype  \n",
            "---  ------   --------------  -----  \n",
            " 0   movieId  10325 non-null  int64  \n",
            " 1   title    10325 non-null  object \n",
            " 2   genres   10325 non-null  object \n",
            " 3   rating   10325 non-null  float64\n",
            "dtypes: float64(1), int64(1), object(2)\n",
            "memory usage: 322.8+ KB\n",
            "None\n"
          ]
        }
      ],
      "source": [
        "print(df.info())"
      ]
    },
    {
      "cell_type": "code",
      "execution_count": 7,
      "metadata": {
        "colab": {
          "base_uri": "https://localhost:8080/",
          "height": 206
        },
        "id": "ygzUIxPEH7kQ",
        "outputId": "96ae7aa0-d24f-4775-e6b2-9554d47c9197"
      },
      "outputs": [
        {
          "data": {
            "text/html": [
              "<div>\n",
              "<style scoped>\n",
              "    .dataframe tbody tr th:only-of-type {\n",
              "        vertical-align: middle;\n",
              "    }\n",
              "\n",
              "    .dataframe tbody tr th {\n",
              "        vertical-align: top;\n",
              "    }\n",
              "\n",
              "    .dataframe thead th {\n",
              "        text-align: right;\n",
              "    }\n",
              "</style>\n",
              "<table border=\"1\" class=\"dataframe\">\n",
              "  <thead>\n",
              "    <tr style=\"text-align: right;\">\n",
              "      <th></th>\n",
              "      <th>movieId</th>\n",
              "      <th>title</th>\n",
              "      <th>genres</th>\n",
              "      <th>rating</th>\n",
              "    </tr>\n",
              "  </thead>\n",
              "  <tbody>\n",
              "    <tr>\n",
              "      <th>0</th>\n",
              "      <td>1</td>\n",
              "      <td>Toy Story (1995)</td>\n",
              "      <td>Adventure|Animation|Children|Comedy|Fantasy</td>\n",
              "      <td>3.907328</td>\n",
              "    </tr>\n",
              "    <tr>\n",
              "      <th>1</th>\n",
              "      <td>2</td>\n",
              "      <td>Jumanji (1995)</td>\n",
              "      <td>Adventure|Children|Fantasy</td>\n",
              "      <td>3.353261</td>\n",
              "    </tr>\n",
              "    <tr>\n",
              "      <th>2</th>\n",
              "      <td>3</td>\n",
              "      <td>Grumpier Old Men (1995)</td>\n",
              "      <td>Comedy|Romance</td>\n",
              "      <td>3.189655</td>\n",
              "    </tr>\n",
              "    <tr>\n",
              "      <th>3</th>\n",
              "      <td>4</td>\n",
              "      <td>Waiting to Exhale (1995)</td>\n",
              "      <td>Comedy|Drama|Romance</td>\n",
              "      <td>2.818182</td>\n",
              "    </tr>\n",
              "    <tr>\n",
              "      <th>4</th>\n",
              "      <td>5</td>\n",
              "      <td>Father of the Bride Part II (1995)</td>\n",
              "      <td>Comedy</td>\n",
              "      <td>3.250000</td>\n",
              "    </tr>\n",
              "  </tbody>\n",
              "</table>\n",
              "</div>"
            ],
            "text/plain": [
              "   movieId                               title  \\\n",
              "0        1                    Toy Story (1995)   \n",
              "1        2                      Jumanji (1995)   \n",
              "2        3             Grumpier Old Men (1995)   \n",
              "3        4            Waiting to Exhale (1995)   \n",
              "4        5  Father of the Bride Part II (1995)   \n",
              "\n",
              "                                        genres    rating  \n",
              "0  Adventure|Animation|Children|Comedy|Fantasy  3.907328  \n",
              "1                   Adventure|Children|Fantasy  3.353261  \n",
              "2                               Comedy|Romance  3.189655  \n",
              "3                         Comedy|Drama|Romance  2.818182  \n",
              "4                                       Comedy  3.250000  "
            ]
          },
          "execution_count": 7,
          "metadata": {},
          "output_type": "execute_result"
        }
      ],
      "source": [
        "df.head()"
      ]
    },
    {
      "cell_type": "code",
      "execution_count": 8,
      "metadata": {
        "id": "otwpmf-8wOg7"
      },
      "outputs": [],
      "source": [
        "genres_one_hot = df['genres'].str.get_dummies(sep='|')\n",
        "genres_one_hot.columns = genres_one_hot.columns.str.lower()\n",
        "df['title'] = df['title'].str.lower()\n",
        "df = pd.concat([df, genres_one_hot], axis=1)\n",
        "df.drop('genres', axis=1, inplace=True)\n",
        "df.drop('(no genres listed)', axis=1, inplace=True)"
      ]
    },
    {
      "cell_type": "code",
      "execution_count": 9,
      "metadata": {
        "colab": {
          "base_uri": "https://localhost:8080/",
          "height": 446
        },
        "id": "9bKB-OJ-wSf8",
        "outputId": "e0853204-cd0b-4af2-da08-38bbc9c7d77e"
      },
      "outputs": [
        {
          "data": {
            "text/html": [
              "<div>\n",
              "<style scoped>\n",
              "    .dataframe tbody tr th:only-of-type {\n",
              "        vertical-align: middle;\n",
              "    }\n",
              "\n",
              "    .dataframe tbody tr th {\n",
              "        vertical-align: top;\n",
              "    }\n",
              "\n",
              "    .dataframe thead th {\n",
              "        text-align: right;\n",
              "    }\n",
              "</style>\n",
              "<table border=\"1\" class=\"dataframe\">\n",
              "  <thead>\n",
              "    <tr style=\"text-align: right;\">\n",
              "      <th></th>\n",
              "      <th>movieId</th>\n",
              "      <th>title</th>\n",
              "      <th>rating</th>\n",
              "      <th>action</th>\n",
              "      <th>adventure</th>\n",
              "      <th>animation</th>\n",
              "      <th>children</th>\n",
              "      <th>comedy</th>\n",
              "      <th>crime</th>\n",
              "      <th>documentary</th>\n",
              "      <th>...</th>\n",
              "      <th>film-noir</th>\n",
              "      <th>horror</th>\n",
              "      <th>imax</th>\n",
              "      <th>musical</th>\n",
              "      <th>mystery</th>\n",
              "      <th>romance</th>\n",
              "      <th>sci-fi</th>\n",
              "      <th>thriller</th>\n",
              "      <th>war</th>\n",
              "      <th>western</th>\n",
              "    </tr>\n",
              "  </thead>\n",
              "  <tbody>\n",
              "    <tr>\n",
              "      <th>0</th>\n",
              "      <td>1</td>\n",
              "      <td>toy story (1995)</td>\n",
              "      <td>3.907328</td>\n",
              "      <td>0</td>\n",
              "      <td>1</td>\n",
              "      <td>1</td>\n",
              "      <td>1</td>\n",
              "      <td>1</td>\n",
              "      <td>0</td>\n",
              "      <td>0</td>\n",
              "      <td>...</td>\n",
              "      <td>0</td>\n",
              "      <td>0</td>\n",
              "      <td>0</td>\n",
              "      <td>0</td>\n",
              "      <td>0</td>\n",
              "      <td>0</td>\n",
              "      <td>0</td>\n",
              "      <td>0</td>\n",
              "      <td>0</td>\n",
              "      <td>0</td>\n",
              "    </tr>\n",
              "    <tr>\n",
              "      <th>1</th>\n",
              "      <td>2</td>\n",
              "      <td>jumanji (1995)</td>\n",
              "      <td>3.353261</td>\n",
              "      <td>0</td>\n",
              "      <td>1</td>\n",
              "      <td>0</td>\n",
              "      <td>1</td>\n",
              "      <td>0</td>\n",
              "      <td>0</td>\n",
              "      <td>0</td>\n",
              "      <td>...</td>\n",
              "      <td>0</td>\n",
              "      <td>0</td>\n",
              "      <td>0</td>\n",
              "      <td>0</td>\n",
              "      <td>0</td>\n",
              "      <td>0</td>\n",
              "      <td>0</td>\n",
              "      <td>0</td>\n",
              "      <td>0</td>\n",
              "      <td>0</td>\n",
              "    </tr>\n",
              "    <tr>\n",
              "      <th>2</th>\n",
              "      <td>3</td>\n",
              "      <td>grumpier old men (1995)</td>\n",
              "      <td>3.189655</td>\n",
              "      <td>0</td>\n",
              "      <td>0</td>\n",
              "      <td>0</td>\n",
              "      <td>0</td>\n",
              "      <td>1</td>\n",
              "      <td>0</td>\n",
              "      <td>0</td>\n",
              "      <td>...</td>\n",
              "      <td>0</td>\n",
              "      <td>0</td>\n",
              "      <td>0</td>\n",
              "      <td>0</td>\n",
              "      <td>0</td>\n",
              "      <td>1</td>\n",
              "      <td>0</td>\n",
              "      <td>0</td>\n",
              "      <td>0</td>\n",
              "      <td>0</td>\n",
              "    </tr>\n",
              "    <tr>\n",
              "      <th>3</th>\n",
              "      <td>4</td>\n",
              "      <td>waiting to exhale (1995)</td>\n",
              "      <td>2.818182</td>\n",
              "      <td>0</td>\n",
              "      <td>0</td>\n",
              "      <td>0</td>\n",
              "      <td>0</td>\n",
              "      <td>1</td>\n",
              "      <td>0</td>\n",
              "      <td>0</td>\n",
              "      <td>...</td>\n",
              "      <td>0</td>\n",
              "      <td>0</td>\n",
              "      <td>0</td>\n",
              "      <td>0</td>\n",
              "      <td>0</td>\n",
              "      <td>1</td>\n",
              "      <td>0</td>\n",
              "      <td>0</td>\n",
              "      <td>0</td>\n",
              "      <td>0</td>\n",
              "    </tr>\n",
              "    <tr>\n",
              "      <th>4</th>\n",
              "      <td>5</td>\n",
              "      <td>father of the bride part ii (1995)</td>\n",
              "      <td>3.250000</td>\n",
              "      <td>0</td>\n",
              "      <td>0</td>\n",
              "      <td>0</td>\n",
              "      <td>0</td>\n",
              "      <td>1</td>\n",
              "      <td>0</td>\n",
              "      <td>0</td>\n",
              "      <td>...</td>\n",
              "      <td>0</td>\n",
              "      <td>0</td>\n",
              "      <td>0</td>\n",
              "      <td>0</td>\n",
              "      <td>0</td>\n",
              "      <td>0</td>\n",
              "      <td>0</td>\n",
              "      <td>0</td>\n",
              "      <td>0</td>\n",
              "      <td>0</td>\n",
              "    </tr>\n",
              "  </tbody>\n",
              "</table>\n",
              "<p>5 rows × 22 columns</p>\n",
              "</div>"
            ],
            "text/plain": [
              "   movieId                               title    rating  action  adventure  \\\n",
              "0        1                    toy story (1995)  3.907328       0          1   \n",
              "1        2                      jumanji (1995)  3.353261       0          1   \n",
              "2        3             grumpier old men (1995)  3.189655       0          0   \n",
              "3        4            waiting to exhale (1995)  2.818182       0          0   \n",
              "4        5  father of the bride part ii (1995)  3.250000       0          0   \n",
              "\n",
              "   animation  children  comedy  crime  documentary  ...  film-noir  horror  \\\n",
              "0          1         1       1      0            0  ...          0       0   \n",
              "1          0         1       0      0            0  ...          0       0   \n",
              "2          0         0       1      0            0  ...          0       0   \n",
              "3          0         0       1      0            0  ...          0       0   \n",
              "4          0         0       1      0            0  ...          0       0   \n",
              "\n",
              "   imax  musical  mystery  romance  sci-fi  thriller  war  western  \n",
              "0     0        0        0        0       0         0    0        0  \n",
              "1     0        0        0        0       0         0    0        0  \n",
              "2     0        0        0        1       0         0    0        0  \n",
              "3     0        0        0        1       0         0    0        0  \n",
              "4     0        0        0        0       0         0    0        0  \n",
              "\n",
              "[5 rows x 22 columns]"
            ]
          },
          "execution_count": 9,
          "metadata": {},
          "output_type": "execute_result"
        }
      ],
      "source": [
        "df.head()"
      ]
    },
    {
      "cell_type": "code",
      "execution_count": 10,
      "metadata": {
        "colab": {
          "base_uri": "https://localhost:8080/",
          "height": 316
        },
        "id": "3lWFV-Fd1IPK",
        "outputId": "6216279c-56e1-4961-95c4-5e1ec0eea10c"
      },
      "outputs": [
        {
          "data": {
            "image/png": "[encoded data removed]",
            "text/plain": [
              "<Figure size 2000x600 with 1 Axes>"
            ]
          },
          "metadata": {},
          "output_type": "display_data"
        }
      ],
      "source": [
        "genre_counts = df.iloc[:, 3:].sum(axis=0)\n",
        "fig, ax = plt.subplots(figsize=(20, 6))\n",
        "ax.bar(genre_counts.index, genre_counts.values)\n",
        "ax.set_xlabel('Genres')\n",
        "ax.set_ylabel('Movies')\n",
        "plt.tight_layout()\n",
        "plt.show()"
      ]
    },
    {
      "cell_type": "code",
      "execution_count": 11,
      "metadata": {
        "id": "EGVsIdD0IcJS"
      },
      "outputs": [],
      "source": [
        "def get_recommendations_from_genres(genres, threshold_rating = 4.0):\n",
        "    df_filtered = df[df[genres].apply(lambda x: any(x), axis=1)]\n",
        "    df_recommendations = df_filtered[df_filtered['rating'] >= threshold_rating]\n",
        "    df_recommendations = df_recommendations.sort_values(by='rating', ascending=False)\n",
        "    return df_recommendations\n",
        "\n",
        "def one_hot_to_genres(row):\n",
        "    genre_columns = df.iloc[:, 3:].columns\n",
        "    genres = []\n",
        "    for genre in genre_columns:\n",
        "        if row[genre] == 1:\n",
        "            genres.append(genre)\n",
        "    return '|'.join(genres)\n",
        "\n",
        "def convert_df(df):\n",
        "    genre_columns = df.iloc[:, 3:].columns\n",
        "\n",
        "    def one_hot_to_genres(row):\n",
        "        genres = []\n",
        "        for genre in genre_columns:\n",
        "            if row[genre] == 1:\n",
        "                genres.append(genre)\n",
        "        return '|'.join(genres)\n",
        "\n",
        "    df['genres'] = df.apply(one_hot_to_genres, axis=1)\n",
        "    df = df.drop(columns=genre_columns)\n",
        "\n",
        "    return df"
      ]
    },
    {
      "cell_type": "code",
      "execution_count": 12,
      "metadata": {
        "colab": {
          "base_uri": "https://localhost:8080/",
          "height": 330
        },
        "id": "Lk_k6x7myw7n",
        "outputId": "24d93df8-d585-493a-df32-1a9141985669"
      },
      "outputs": [
        {
          "name": "stderr",
          "output_type": "stream",
          "text": [
            "C:\\Users\\ASUS TUFF\\AppData\\Local\\Temp\\ipykernel_9604\\2187763059.py:25: SettingWithCopyWarning: \n",
            "A value is trying to be set on a copy of a slice from a DataFrame.\n",
            "Try using .loc[row_indexer,col_indexer] = value instead\n",
            "\n",
            "See the caveats in the documentation: https://pandas.pydata.org/pandas-docs/stable/user_guide/indexing.html#returning-a-view-versus-a-copy\n",
            "  df['genres'] = df.apply(one_hot_to_genres, axis=1)\n"
          ]
        },
        {
          "data": {
            "text/html": [
              "<div>\n",
              "<style scoped>\n",
              "    .dataframe tbody tr th:only-of-type {\n",
              "        vertical-align: middle;\n",
              "    }\n",
              "\n",
              "    .dataframe tbody tr th {\n",
              "        vertical-align: top;\n",
              "    }\n",
              "\n",
              "    .dataframe thead th {\n",
              "        text-align: right;\n",
              "    }\n",
              "</style>\n",
              "<table border=\"1\" class=\"dataframe\">\n",
              "  <thead>\n",
              "    <tr style=\"text-align: right;\">\n",
              "      <th></th>\n",
              "      <th>movieId</th>\n",
              "      <th>title</th>\n",
              "      <th>rating</th>\n",
              "      <th>genres</th>\n",
              "    </tr>\n",
              "  </thead>\n",
              "  <tbody>\n",
              "    <tr>\n",
              "      <th>10171</th>\n",
              "      <td>127052</td>\n",
              "      <td>operation 'y' &amp; other shurik's adventures (1965)</td>\n",
              "      <td>5.0</td>\n",
              "      <td>comedy|crime|romance</td>\n",
              "    </tr>\n",
              "    <tr>\n",
              "      <th>9085</th>\n",
              "      <td>89045</td>\n",
              "      <td>rocky vi (1986)</td>\n",
              "      <td>5.0</td>\n",
              "      <td>comedy</td>\n",
              "    </tr>\n",
              "    <tr>\n",
              "      <th>9426</th>\n",
              "      <td>96467</td>\n",
              "      <td>sleepwalk with me (2012)</td>\n",
              "      <td>5.0</td>\n",
              "      <td>comedy|drama</td>\n",
              "    </tr>\n",
              "    <tr>\n",
              "      <th>1495</th>\n",
              "      <td>1925</td>\n",
              "      <td>wings (1927)</td>\n",
              "      <td>5.0</td>\n",
              "      <td>action|drama|romance|war</td>\n",
              "    </tr>\n",
              "    <tr>\n",
              "      <th>6131</th>\n",
              "      <td>26347</td>\n",
              "      <td>irony of fate, or enjoy your bath! (ironiya su...</td>\n",
              "      <td>5.0</td>\n",
              "      <td>comedy|drama|romance</td>\n",
              "    </tr>\n",
              "  </tbody>\n",
              "</table>\n",
              "</div>"
            ],
            "text/plain": [
              "       movieId                                              title  rating  \\\n",
              "10171   127052   operation 'y' & other shurik's adventures (1965)     5.0   \n",
              "9085     89045                                    rocky vi (1986)     5.0   \n",
              "9426     96467                           sleepwalk with me (2012)     5.0   \n",
              "1495      1925                                       wings (1927)     5.0   \n",
              "6131     26347  irony of fate, or enjoy your bath! (ironiya su...     5.0   \n",
              "\n",
              "                         genres  \n",
              "10171      comedy|crime|romance  \n",
              "9085                     comedy  \n",
              "9426               comedy|drama  \n",
              "1495   action|drama|romance|war  \n",
              "6131       comedy|drama|romance  "
            ]
          },
          "execution_count": 12,
          "metadata": {},
          "output_type": "execute_result"
        }
      ],
      "source": [
        "input_genres = ['comedy', 'romance']\n",
        "rec = get_recommendations_from_genres(input_genres)\n",
        "convert_df(rec.head(5))"
      ]
    },
    {
      "cell_type": "code",
      "execution_count": 13,
      "metadata": {
        "id": "pPcMFPiqO_EC"
      },
      "outputs": [],
      "source": [
        "genre_matrix = df.iloc[:, 3:].values\n",
        "linear_sim = linear_kernel(genre_matrix, genre_matrix)\n",
        "indices = pd.Series(df.index, index=df['title']).drop_duplicates()"
      ]
    },
    {
      "cell_type": "code",
      "execution_count": 14,
      "metadata": {},
      "outputs": [],
      "source": [
        "def get_recommendations_from_name(title, linear_sim=linear_sim):\n",
        "    idx = indices[title]\n",
        "    sim_scores = list(enumerate(linear_sim[idx]))\n",
        "    sim_scores = sorted(sim_scores, key=lambda x: x[1], reverse=True)\n",
        "    sim_scores = sim_scores[1:11]\n",
        "    movie_indices = [i[0] for i in sim_scores]\n",
        "    return df['title'].iloc[movie_indices]"
      ]
    },
    {
      "cell_type": "code",
      "execution_count": 15,
      "metadata": {
        "colab": {
          "base_uri": "https://localhost:8080/"
        },
        "id": "0m8uTaYwzSfD",
        "outputId": "c865b764-4acb-4331-90a2-a83f8d78c9f9"
      },
      "outputs": [
        {
          "name": "stdout",
          "output_type": "stream",
          "text": [
            "Movie title:  piranha ii: the spawning (1981)\n",
            "recommendations movies:\n",
            " 242    mary shelley's frankenstein (frankenstein) (1994)\n",
            "292                         village of the damned (1995)\n",
            "374                                body snatchers (1993)\n",
            "456                           puppet masters, the (1994)\n",
            "539                                   heavy metal (1981)\n",
            "540                         hellraiser: bloodline (1996)\n",
            "787                      night of the living dead (1968)\n",
            "844                            lawnmower man, the (1992)\n",
            "962                                        aliens (1986)\n",
            "975                                         alien (1979)\n",
            "Name: title, dtype: object\n"
          ]
        }
      ],
      "source": [
        "random_title = df['title'].sample().values[0]\n",
        "recommendations = get_recommendations_from_name(random_title)\n",
        "print('Movie title: ',random_title)\n",
        "print('recommendations movies:\\n',recommendations)"
      ]
    },
    {
      "cell_type": "code",
      "execution_count": 16,
      "metadata": {},
      "outputs": [],
      "source": [
        "import pickle"
      ]
    },
    {
      "cell_type": "code",
      "execution_count": 17,
      "metadata": {},
      "outputs": [],
      "source": [
        "with open('Movies_recommendation_objects.pkl', 'wb') as file:\n",
        "    pickle.dump((linear_sim, indices, df), file)"
      ]
    },
    {
      "cell_type": "code",
      "execution_count": 18,
      "metadata": {},
      "outputs": [
        {
          "name": "stdout",
          "output_type": "stream",
          "text": [
            "[[5. 3. 1. ... 1. 0. 0.]\n",
            " [3. 3. 0. ... 0. 0. 0.]\n",
            " [1. 0. 2. ... 1. 0. 0.]\n",
            " ...\n",
            " [1. 0. 1. ... 1. 0. 0.]\n",
            " [0. 0. 0. ... 0. 1. 0.]\n",
            " [0. 0. 0. ... 0. 0. 0.]]\n",
            "title\n",
            "toy story (1995)                           0\n",
            "jumanji (1995)                             1\n",
            "grumpier old men (1995)                    2\n",
            "waiting to exhale (1995)                   3\n",
            "father of the bride part ii (1995)         4\n",
            "                                       ...  \n",
            "cosmic scrat-tastrophe (2015)          10320\n",
            "le grand restaurant (1966)             10321\n",
            "a very murray christmas (2015)         10322\n",
            "the big short (2015)                   10323\n",
            "marco polo: one hundred eyes (2015)    10324\n",
            "Length: 10325, dtype: int64\n",
            "       movieId                                title    rating  action  \\\n",
            "0            1                     toy story (1995)  3.907328       0   \n",
            "1            2                       jumanji (1995)  3.353261       0   \n",
            "2            3              grumpier old men (1995)  3.189655       0   \n",
            "3            4             waiting to exhale (1995)  2.818182       0   \n",
            "4            5   father of the bride part ii (1995)  3.250000       0   \n",
            "...        ...                                  ...       ...     ...   \n",
            "10320   146684        cosmic scrat-tastrophe (2015)  4.000000       0   \n",
            "10321   146878           le grand restaurant (1966)  2.500000       0   \n",
            "10322   148238       a very murray christmas (2015)  3.000000       0   \n",
            "10323   148626                 the big short (2015)  4.333333       0   \n",
            "10324   149532  marco polo: one hundred eyes (2015)  4.000000       0   \n",
            "\n",
            "       adventure  animation  children  comedy  crime  documentary  ...  \\\n",
            "0              1          1         1       1      0            0  ...   \n",
            "1              1          0         1       0      0            0  ...   \n",
            "2              0          0         0       1      0            0  ...   \n",
            "3              0          0         0       1      0            0  ...   \n",
            "4              0          0         0       1      0            0  ...   \n",
            "...          ...        ...       ...     ...    ...          ...  ...   \n",
            "10320          0          1         1       1      0            0  ...   \n",
            "10321          0          0         0       1      0            0  ...   \n",
            "10322          0          0         0       1      0            0  ...   \n",
            "10323          0          0         0       0      0            0  ...   \n",
            "10324          0          0         0       0      0            0  ...   \n",
            "\n",
            "       film-noir  horror  imax  musical  mystery  romance  sci-fi  thriller  \\\n",
            "0              0       0     0        0        0        0       0         0   \n",
            "1              0       0     0        0        0        0       0         0   \n",
            "2              0       0     0        0        0        1       0         0   \n",
            "3              0       0     0        0        0        1       0         0   \n",
            "4              0       0     0        0        0        0       0         0   \n",
            "...          ...     ...   ...      ...      ...      ...     ...       ...   \n",
            "10320          0       0     0        0        0        0       0         0   \n",
            "10321          0       0     0        0        0        0       0         0   \n",
            "10322          0       0     0        0        0        0       0         0   \n",
            "10323          0       0     0        0        0        0       0         0   \n",
            "10324          0       0     0        0        0        0       0         0   \n",
            "\n",
            "       war  western  \n",
            "0        0        0  \n",
            "1        0        0  \n",
            "2        0        0  \n",
            "3        0        0  \n",
            "4        0        0  \n",
            "...    ...      ...  \n",
            "10320    0        0  \n",
            "10321    0        0  \n",
            "10322    0        0  \n",
            "10323    0        0  \n",
            "10324    0        0  \n",
            "\n",
            "[10325 rows x 22 columns]\n"
          ]
        }
      ],
      "source": [
        "with open('Movies_recommendation_objects.pkl', 'rb') as file:\n",
        "    linear_sim, indices, df = pickle.load(file)\n",
        "\n",
        "# Kiểm tra các đối tượng đã tải\n",
        "print(linear_sim)\n",
        "print(indices)\n",
        "print(df)"
      ]
    }
  ],
  "metadata": {
    "colab": {
      "provenance": []
    },
    "kernelspec": {
      "display_name": "Python 3",
      "name": "python3"
    },
    "language_info": {
      "codemirror_mode": {
        "name": "ipython",
        "version": 3
      },
      "file_extension": ".py",
      "mimetype": "text/x-python",
      "name": "python",
      "nbconvert_exporter": "python",
      "pygments_lexer": "ipython3",
      "version": "3.10.14"
    }
  },
  "nbformat": 4,
  "nbformat_minor": 0
}
